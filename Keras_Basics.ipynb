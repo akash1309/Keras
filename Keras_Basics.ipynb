{
  "nbformat": 4,
  "nbformat_minor": 0,
  "metadata": {
    "colab": {
      "name": "Keras_Basics.ipynb",
      "provenance": [],
      "authorship_tag": "ABX9TyOtzWFayR0SWT3Zia6oKuIw"
    },
    "kernelspec": {
      "name": "python3",
      "display_name": "Python 3"
    },
    "accelerator": "GPU"
  },
  "cells": [
    {
      "cell_type": "markdown",
      "metadata": {
        "id": "g2YY9Tj1G0YJ",
        "colab_type": "text"
      },
      "source": [
        "# <center>Keras Basics"
      ]
    },
    {
      "cell_type": "markdown",
      "metadata": {
        "id": "wizxdGDKKWW6",
        "colab_type": "text"
      },
      "source": [
        "## 1) Importing the libraries"
      ]
    },
    {
      "cell_type": "code",
      "metadata": {
        "id": "9RxGHe6SEgBt",
        "colab_type": "code",
        "colab": {
          "base_uri": "https://localhost:8080/",
          "height": 34
        },
        "outputId": "4781b737-5a30-4c71-939a-a98b9956e3f0"
      },
      "source": [
        "import numpy as np\n",
        "import pandas as pd\n",
        "import matplotlib.pyplot as plt\n",
        "import keras"
      ],
      "execution_count": 1,
      "outputs": [
        {
          "output_type": "stream",
          "text": [
            "Using TensorFlow backend.\n"
          ],
          "name": "stderr"
        }
      ]
    },
    {
      "cell_type": "markdown",
      "metadata": {
        "id": "WaHAUln7Kael",
        "colab_type": "text"
      },
      "source": [
        "## 2) Loading the built-in Iris dataset\n",
        "\n",
        "Scikit Learn offers some inbuilt datasets. Iris is one of them.\n",
        "\n",
        "If you want to download it from kaggle,you are free to do.\n",
        "Here is the link:  https://www.kaggle.com/uciml/iris"
      ]
    },
    {
      "cell_type": "code",
      "metadata": {
        "id": "zTAxlxYHHRF7",
        "colab_type": "code",
        "colab": {}
      },
      "source": [
        "from sklearn.datasets import load_iris"
      ],
      "execution_count": 0,
      "outputs": []
    },
    {
      "cell_type": "code",
      "metadata": {
        "id": "EMa-gB-aHb15",
        "colab_type": "code",
        "colab": {}
      },
      "source": [
        "iris = load_iris()"
      ],
      "execution_count": 0,
      "outputs": []
    },
    {
      "cell_type": "code",
      "metadata": {
        "id": "6JY3BAUDHfDl",
        "colab_type": "code",
        "colab": {
          "base_uri": "https://localhost:8080/",
          "height": 1000
        },
        "outputId": "dc9799f4-20f2-4934-c08a-21d1417ce91c"
      },
      "source": [
        "print(iris.DESCR)"
      ],
      "execution_count": 4,
      "outputs": [
        {
          "output_type": "stream",
          "text": [
            ".. _iris_dataset:\n",
            "\n",
            "Iris plants dataset\n",
            "--------------------\n",
            "\n",
            "**Data Set Characteristics:**\n",
            "\n",
            "    :Number of Instances: 150 (50 in each of three classes)\n",
            "    :Number of Attributes: 4 numeric, predictive attributes and the class\n",
            "    :Attribute Information:\n",
            "        - sepal length in cm\n",
            "        - sepal width in cm\n",
            "        - petal length in cm\n",
            "        - petal width in cm\n",
            "        - class:\n",
            "                - Iris-Setosa\n",
            "                - Iris-Versicolour\n",
            "                - Iris-Virginica\n",
            "                \n",
            "    :Summary Statistics:\n",
            "\n",
            "    ============== ==== ==== ======= ===== ====================\n",
            "                    Min  Max   Mean    SD   Class Correlation\n",
            "    ============== ==== ==== ======= ===== ====================\n",
            "    sepal length:   4.3  7.9   5.84   0.83    0.7826\n",
            "    sepal width:    2.0  4.4   3.05   0.43   -0.4194\n",
            "    petal length:   1.0  6.9   3.76   1.76    0.9490  (high!)\n",
            "    petal width:    0.1  2.5   1.20   0.76    0.9565  (high!)\n",
            "    ============== ==== ==== ======= ===== ====================\n",
            "\n",
            "    :Missing Attribute Values: None\n",
            "    :Class Distribution: 33.3% for each of 3 classes.\n",
            "    :Creator: R.A. Fisher\n",
            "    :Donor: Michael Marshall (MARSHALL%PLU@io.arc.nasa.gov)\n",
            "    :Date: July, 1988\n",
            "\n",
            "The famous Iris database, first used by Sir R.A. Fisher. The dataset is taken\n",
            "from Fisher's paper. Note that it's the same as in R, but not as in the UCI\n",
            "Machine Learning Repository, which has two wrong data points.\n",
            "\n",
            "This is perhaps the best known database to be found in the\n",
            "pattern recognition literature.  Fisher's paper is a classic in the field and\n",
            "is referenced frequently to this day.  (See Duda & Hart, for example.)  The\n",
            "data set contains 3 classes of 50 instances each, where each class refers to a\n",
            "type of iris plant.  One class is linearly separable from the other 2; the\n",
            "latter are NOT linearly separable from each other.\n",
            "\n",
            ".. topic:: References\n",
            "\n",
            "   - Fisher, R.A. \"The use of multiple measurements in taxonomic problems\"\n",
            "     Annual Eugenics, 7, Part II, 179-188 (1936); also in \"Contributions to\n",
            "     Mathematical Statistics\" (John Wiley, NY, 1950).\n",
            "   - Duda, R.O., & Hart, P.E. (1973) Pattern Classification and Scene Analysis.\n",
            "     (Q327.D83) John Wiley & Sons.  ISBN 0-471-22361-1.  See page 218.\n",
            "   - Dasarathy, B.V. (1980) \"Nosing Around the Neighborhood: A New System\n",
            "     Structure and Classification Rule for Recognition in Partially Exposed\n",
            "     Environments\".  IEEE Transactions on Pattern Analysis and Machine\n",
            "     Intelligence, Vol. PAMI-2, No. 1, 67-71.\n",
            "   - Gates, G.W. (1972) \"The Reduced Nearest Neighbor Rule\".  IEEE Transactions\n",
            "     on Information Theory, May 1972, 431-433.\n",
            "   - See also: 1988 MLC Proceedings, 54-64.  Cheeseman et al\"s AUTOCLASS II\n",
            "     conceptual clustering system finds 3 classes in the data.\n",
            "   - Many, many more ...\n"
          ],
          "name": "stdout"
        }
      ]
    },
    {
      "cell_type": "markdown",
      "metadata": {
        "id": "zTkTq-ILPTs6",
        "colab_type": "text"
      },
      "source": [
        "## 3) Splitting into features and labels"
      ]
    },
    {
      "cell_type": "code",
      "metadata": {
        "id": "lbcrIzTkHiI6",
        "colab_type": "code",
        "colab": {
          "base_uri": "https://localhost:8080/",
          "height": 187
        },
        "outputId": "5ef3925b-8812-4470-abec-fd50a2228d4b"
      },
      "source": [
        "# Extracting features and labels\n",
        "\n",
        "X = iris.data\n",
        "X[:10]"
      ],
      "execution_count": 5,
      "outputs": [
        {
          "output_type": "execute_result",
          "data": {
            "text/plain": [
              "array([[5.1, 3.5, 1.4, 0.2],\n",
              "       [4.9, 3. , 1.4, 0.2],\n",
              "       [4.7, 3.2, 1.3, 0.2],\n",
              "       [4.6, 3.1, 1.5, 0.2],\n",
              "       [5. , 3.6, 1.4, 0.2],\n",
              "       [5.4, 3.9, 1.7, 0.4],\n",
              "       [4.6, 3.4, 1.4, 0.3],\n",
              "       [5. , 3.4, 1.5, 0.2],\n",
              "       [4.4, 2.9, 1.4, 0.2],\n",
              "       [4.9, 3.1, 1.5, 0.1]])"
            ]
          },
          "metadata": {
            "tags": []
          },
          "execution_count": 5
        }
      ]
    },
    {
      "cell_type": "code",
      "metadata": {
        "id": "_Bs8gHluIGWj",
        "colab_type": "code",
        "colab": {
          "base_uri": "https://localhost:8080/",
          "height": 136
        },
        "outputId": "bc988cd5-7309-45f6-9114-294781add844"
      },
      "source": [
        "y = iris.target\n",
        "y"
      ],
      "execution_count": 6,
      "outputs": [
        {
          "output_type": "execute_result",
          "data": {
            "text/plain": [
              "array([0, 0, 0, 0, 0, 0, 0, 0, 0, 0, 0, 0, 0, 0, 0, 0, 0, 0, 0, 0, 0, 0,\n",
              "       0, 0, 0, 0, 0, 0, 0, 0, 0, 0, 0, 0, 0, 0, 0, 0, 0, 0, 0, 0, 0, 0,\n",
              "       0, 0, 0, 0, 0, 0, 1, 1, 1, 1, 1, 1, 1, 1, 1, 1, 1, 1, 1, 1, 1, 1,\n",
              "       1, 1, 1, 1, 1, 1, 1, 1, 1, 1, 1, 1, 1, 1, 1, 1, 1, 1, 1, 1, 1, 1,\n",
              "       1, 1, 1, 1, 1, 1, 1, 1, 1, 1, 1, 1, 2, 2, 2, 2, 2, 2, 2, 2, 2, 2,\n",
              "       2, 2, 2, 2, 2, 2, 2, 2, 2, 2, 2, 2, 2, 2, 2, 2, 2, 2, 2, 2, 2, 2,\n",
              "       2, 2, 2, 2, 2, 2, 2, 2, 2, 2, 2, 2, 2, 2, 2, 2, 2, 2])"
            ]
          },
          "metadata": {
            "tags": []
          },
          "execution_count": 6
        }
      ]
    },
    {
      "cell_type": "markdown",
      "metadata": {
        "id": "u2C2BpRfPY2m",
        "colab_type": "text"
      },
      "source": [
        "### 3.1) One Hot Encoding on Y_label"
      ]
    },
    {
      "cell_type": "code",
      "metadata": {
        "id": "0eD7xvpuIPox",
        "colab_type": "code",
        "colab": {}
      },
      "source": [
        "# Converting the label into one hot encoder\n",
        "# Class 0 --->  [1,0,0]\n",
        "# Class 1 --->  [0,1,0]\n",
        "# Class 2 --->  [0,0,1]\n",
        "\n",
        "from keras.utils import to_categorical\n",
        "\n",
        "y = to_categorical(y)"
      ],
      "execution_count": 0,
      "outputs": []
    },
    {
      "cell_type": "code",
      "metadata": {
        "id": "_97T4hRXIuv9",
        "colab_type": "code",
        "colab": {
          "base_uri": "https://localhost:8080/",
          "height": 34
        },
        "outputId": "6dea9904-ea31-4acf-ee2a-340d133da183"
      },
      "source": [
        "y.shape"
      ],
      "execution_count": 8,
      "outputs": [
        {
          "output_type": "execute_result",
          "data": {
            "text/plain": [
              "(150, 3)"
            ]
          },
          "metadata": {
            "tags": []
          },
          "execution_count": 8
        }
      ]
    },
    {
      "cell_type": "code",
      "metadata": {
        "id": "zDZnt79LIwI4",
        "colab_type": "code",
        "colab": {
          "base_uri": "https://localhost:8080/",
          "height": 187
        },
        "outputId": "1c0c1451-95f0-47b3-d3d0-c30cb109e14e"
      },
      "source": [
        "y[:10]"
      ],
      "execution_count": 9,
      "outputs": [
        {
          "output_type": "execute_result",
          "data": {
            "text/plain": [
              "array([[1., 0., 0.],\n",
              "       [1., 0., 0.],\n",
              "       [1., 0., 0.],\n",
              "       [1., 0., 0.],\n",
              "       [1., 0., 0.],\n",
              "       [1., 0., 0.],\n",
              "       [1., 0., 0.],\n",
              "       [1., 0., 0.],\n",
              "       [1., 0., 0.],\n",
              "       [1., 0., 0.]], dtype=float32)"
            ]
          },
          "metadata": {
            "tags": []
          },
          "execution_count": 9
        }
      ]
    },
    {
      "cell_type": "markdown",
      "metadata": {
        "id": "3zrOn8j0PfZv",
        "colab_type": "text"
      },
      "source": [
        "## 4) Splitting the data into train and test set"
      ]
    },
    {
      "cell_type": "code",
      "metadata": {
        "id": "Uj5hH9Q7Ixic",
        "colab_type": "code",
        "colab": {}
      },
      "source": [
        "from sklearn.model_selection import train_test_split\n",
        "X_train, X_test, y_train, y_test = train_test_split(X, y, test_size=0.33,random_state=42)"
      ],
      "execution_count": 0,
      "outputs": []
    },
    {
      "cell_type": "code",
      "metadata": {
        "id": "c4HaAJLaKNSm",
        "colab_type": "code",
        "colab": {
          "base_uri": "https://localhost:8080/",
          "height": 34
        },
        "outputId": "54c72446-4bab-4e1b-b734-7b6d36c4ef1a"
      },
      "source": [
        "X_train.shape, X_test.shape, y_train.shape, y_test.shape"
      ],
      "execution_count": 11,
      "outputs": [
        {
          "output_type": "execute_result",
          "data": {
            "text/plain": [
              "((100, 4), (50, 4), (100, 3), (50, 3))"
            ]
          },
          "metadata": {
            "tags": []
          },
          "execution_count": 11
        }
      ]
    },
    {
      "cell_type": "markdown",
      "metadata": {
        "id": "i2mTjqtXQX82",
        "colab_type": "text"
      },
      "source": [
        "### 4.1) Feature Scaling"
      ]
    },
    {
      "cell_type": "code",
      "metadata": {
        "id": "Ar_mjVptKULv",
        "colab_type": "code",
        "colab": {
          "base_uri": "https://localhost:8080/",
          "height": 34
        },
        "outputId": "0b04e5c5-2073-45e9-ad5b-4f4775d8ea1c"
      },
      "source": [
        "from sklearn.preprocessing import MinMaxScaler\n",
        "\n",
        "mmx = MinMaxScaler()\n",
        "mmx.fit(X_train)"
      ],
      "execution_count": 12,
      "outputs": [
        {
          "output_type": "execute_result",
          "data": {
            "text/plain": [
              "MinMaxScaler(copy=True, feature_range=(0, 1))"
            ]
          },
          "metadata": {
            "tags": []
          },
          "execution_count": 12
        }
      ]
    },
    {
      "cell_type": "code",
      "metadata": {
        "id": "91J8zvQ2QmaB",
        "colab_type": "code",
        "colab": {}
      },
      "source": [
        "Scaled_X_train = mmx.transform(X_train)\n",
        "Scaled_X_test = mmx.transform(X_test)"
      ],
      "execution_count": 0,
      "outputs": []
    },
    {
      "cell_type": "markdown",
      "metadata": {
        "id": "mqKW6GUeoCq8",
        "colab_type": "text"
      },
      "source": [
        "## 5) Building the model using Keras"
      ]
    },
    {
      "cell_type": "code",
      "metadata": {
        "id": "2E6kFFyLQtkV",
        "colab_type": "code",
        "colab": {}
      },
      "source": [
        "from keras.models import Sequential\n",
        "from keras.layers import Dense"
      ],
      "execution_count": 0,
      "outputs": []
    },
    {
      "cell_type": "code",
      "metadata": {
        "id": "xBTNdAECoIB4",
        "colab_type": "code",
        "colab": {}
      },
      "source": [
        "model = Sequential()\n",
        "model.add(Dense(8, input_dim=4, activation='relu'))\n",
        "model.add(Dense(8, input_dim=4, activation='relu'))\n",
        "model.add(Dense(3, activation='softmax'))\n",
        "model.compile(loss='categorical_crossentropy', optimizer='adam', metrics=['accuracy'])"
      ],
      "execution_count": 0,
      "outputs": []
    },
    {
      "cell_type": "code",
      "metadata": {
        "id": "HaDci74JoKNO",
        "colab_type": "code",
        "colab": {
          "base_uri": "https://localhost:8080/",
          "height": 255
        },
        "outputId": "a1ae57e4-433a-4acf-b480-53f5687d0a0e"
      },
      "source": [
        "model.summary()"
      ],
      "execution_count": 16,
      "outputs": [
        {
          "output_type": "stream",
          "text": [
            "Model: \"sequential_1\"\n",
            "_________________________________________________________________\n",
            "Layer (type)                 Output Shape              Param #   \n",
            "=================================================================\n",
            "dense_1 (Dense)              (None, 8)                 40        \n",
            "_________________________________________________________________\n",
            "dense_2 (Dense)              (None, 8)                 72        \n",
            "_________________________________________________________________\n",
            "dense_3 (Dense)              (None, 3)                 27        \n",
            "=================================================================\n",
            "Total params: 139\n",
            "Trainable params: 139\n",
            "Non-trainable params: 0\n",
            "_________________________________________________________________\n"
          ],
          "name": "stdout"
        }
      ]
    },
    {
      "cell_type": "markdown",
      "metadata": {
        "id": "XXNJ5z-GoQLV",
        "colab_type": "text"
      },
      "source": [
        "## 6) Training the model"
      ]
    },
    {
      "cell_type": "code",
      "metadata": {
        "id": "tQ3U__t2oNSJ",
        "colab_type": "code",
        "colab": {
          "base_uri": "https://localhost:8080/",
          "height": 1000
        },
        "outputId": "0a7af62b-1bcc-4dea-ab02-506d162c1d8c"
      },
      "source": [
        "# Play around with number of epochs as well!\n",
        "model.fit(Scaled_X_train,y_train,epochs=150, verbose=2)"
      ],
      "execution_count": 18,
      "outputs": [
        {
          "output_type": "stream",
          "text": [
            "Epoch 1/150\n",
            " - 2s - loss: 1.1303 - accuracy: 0.3300\n",
            "Epoch 2/150\n",
            " - 0s - loss: 1.1259 - accuracy: 0.3600\n",
            "Epoch 3/150\n",
            " - 0s - loss: 1.1225 - accuracy: 0.3700\n",
            "Epoch 4/150\n",
            " - 0s - loss: 1.1192 - accuracy: 0.3600\n",
            "Epoch 5/150\n",
            " - 0s - loss: 1.1161 - accuracy: 0.3500\n",
            "Epoch 6/150\n",
            " - 0s - loss: 1.1129 - accuracy: 0.3600\n",
            "Epoch 7/150\n",
            " - 0s - loss: 1.1104 - accuracy: 0.3500\n",
            "Epoch 8/150\n",
            " - 0s - loss: 1.1080 - accuracy: 0.3800\n",
            "Epoch 9/150\n",
            " - 0s - loss: 1.1059 - accuracy: 0.3600\n",
            "Epoch 10/150\n",
            " - 0s - loss: 1.1040 - accuracy: 0.3600\n",
            "Epoch 11/150\n",
            " - 0s - loss: 1.1023 - accuracy: 0.3700\n",
            "Epoch 12/150\n",
            " - 0s - loss: 1.1007 - accuracy: 0.3700\n",
            "Epoch 13/150\n",
            " - 0s - loss: 1.0988 - accuracy: 0.3700\n",
            "Epoch 14/150\n",
            " - 0s - loss: 1.0972 - accuracy: 0.3700\n",
            "Epoch 15/150\n",
            " - 0s - loss: 1.0957 - accuracy: 0.3500\n",
            "Epoch 16/150\n",
            " - 0s - loss: 1.0940 - accuracy: 0.3500\n",
            "Epoch 17/150\n",
            " - 0s - loss: 1.0924 - accuracy: 0.3500\n",
            "Epoch 18/150\n",
            " - 0s - loss: 1.0908 - accuracy: 0.3600\n",
            "Epoch 19/150\n",
            " - 0s - loss: 1.0890 - accuracy: 0.3900\n",
            "Epoch 20/150\n",
            " - 0s - loss: 1.0867 - accuracy: 0.3800\n",
            "Epoch 21/150\n",
            " - 0s - loss: 1.0846 - accuracy: 0.4100\n",
            "Epoch 22/150\n",
            " - 0s - loss: 1.0823 - accuracy: 0.4300\n",
            "Epoch 23/150\n",
            " - 0s - loss: 1.0798 - accuracy: 0.4400\n",
            "Epoch 24/150\n",
            " - 0s - loss: 1.0773 - accuracy: 0.4300\n",
            "Epoch 25/150\n",
            " - 0s - loss: 1.0738 - accuracy: 0.4300\n",
            "Epoch 26/150\n",
            " - 0s - loss: 1.0695 - accuracy: 0.4300\n",
            "Epoch 27/150\n",
            " - 0s - loss: 1.0641 - accuracy: 0.4200\n",
            "Epoch 28/150\n",
            " - 0s - loss: 1.0582 - accuracy: 0.4100\n",
            "Epoch 29/150\n",
            " - 0s - loss: 1.0514 - accuracy: 0.4100\n",
            "Epoch 30/150\n",
            " - 0s - loss: 1.0441 - accuracy: 0.4100\n",
            "Epoch 31/150\n",
            " - 0s - loss: 1.0347 - accuracy: 0.4200\n",
            "Epoch 32/150\n",
            " - 0s - loss: 1.0249 - accuracy: 0.4000\n",
            "Epoch 33/150\n",
            " - 0s - loss: 1.0140 - accuracy: 0.4100\n",
            "Epoch 34/150\n",
            " - 0s - loss: 1.0027 - accuracy: 0.4100\n",
            "Epoch 35/150\n",
            " - 0s - loss: 0.9909 - accuracy: 0.4000\n",
            "Epoch 36/150\n",
            " - 0s - loss: 0.9792 - accuracy: 0.4000\n",
            "Epoch 37/150\n",
            " - 0s - loss: 0.9674 - accuracy: 0.4100\n",
            "Epoch 38/150\n",
            " - 0s - loss: 0.9554 - accuracy: 0.4600\n",
            "Epoch 39/150\n",
            " - 0s - loss: 0.9441 - accuracy: 0.5500\n",
            "Epoch 40/150\n",
            " - 0s - loss: 0.9333 - accuracy: 0.6300\n",
            "Epoch 41/150\n",
            " - 0s - loss: 0.9227 - accuracy: 0.6500\n",
            "Epoch 42/150\n",
            " - 0s - loss: 0.9129 - accuracy: 0.6800\n",
            "Epoch 43/150\n",
            " - 0s - loss: 0.9037 - accuracy: 0.6400\n",
            "Epoch 44/150\n",
            " - 0s - loss: 0.8945 - accuracy: 0.6300\n",
            "Epoch 45/150\n",
            " - 0s - loss: 0.8864 - accuracy: 0.5900\n",
            "Epoch 46/150\n",
            " - 0s - loss: 0.8777 - accuracy: 0.6000\n",
            "Epoch 47/150\n",
            " - 0s - loss: 0.8700 - accuracy: 0.5900\n",
            "Epoch 48/150\n",
            " - 0s - loss: 0.8625 - accuracy: 0.5900\n",
            "Epoch 49/150\n",
            " - 0s - loss: 0.8553 - accuracy: 0.5900\n",
            "Epoch 50/150\n",
            " - 0s - loss: 0.8481 - accuracy: 0.5900\n",
            "Epoch 51/150\n",
            " - 0s - loss: 0.8409 - accuracy: 0.6100\n",
            "Epoch 52/150\n",
            " - 0s - loss: 0.8332 - accuracy: 0.6200\n",
            "Epoch 53/150\n",
            " - 0s - loss: 0.8259 - accuracy: 0.6200\n",
            "Epoch 54/150\n",
            " - 0s - loss: 0.8181 - accuracy: 0.6500\n",
            "Epoch 55/150\n",
            " - 0s - loss: 0.8105 - accuracy: 0.6500\n",
            "Epoch 56/150\n",
            " - 0s - loss: 0.8017 - accuracy: 0.6700\n",
            "Epoch 57/150\n",
            " - 0s - loss: 0.7924 - accuracy: 0.6800\n",
            "Epoch 58/150\n",
            " - 0s - loss: 0.7832 - accuracy: 0.6800\n",
            "Epoch 59/150\n",
            " - 0s - loss: 0.7734 - accuracy: 0.6900\n",
            "Epoch 60/150\n",
            " - 0s - loss: 0.7638 - accuracy: 0.6900\n",
            "Epoch 61/150\n",
            " - 0s - loss: 0.7537 - accuracy: 0.6800\n",
            "Epoch 62/150\n",
            " - 0s - loss: 0.7438 - accuracy: 0.6700\n",
            "Epoch 63/150\n",
            " - 0s - loss: 0.7342 - accuracy: 0.6600\n",
            "Epoch 64/150\n",
            " - 0s - loss: 0.7251 - accuracy: 0.6700\n",
            "Epoch 65/150\n",
            " - 0s - loss: 0.7160 - accuracy: 0.6700\n",
            "Epoch 66/150\n",
            " - 0s - loss: 0.7078 - accuracy: 0.7000\n",
            "Epoch 67/150\n",
            " - 0s - loss: 0.6989 - accuracy: 0.7200\n",
            "Epoch 68/150\n",
            " - 0s - loss: 0.6902 - accuracy: 0.7200\n",
            "Epoch 69/150\n",
            " - 0s - loss: 0.6817 - accuracy: 0.7100\n",
            "Epoch 70/150\n",
            " - 0s - loss: 0.6733 - accuracy: 0.7400\n",
            "Epoch 71/150\n",
            " - 0s - loss: 0.6651 - accuracy: 0.7100\n",
            "Epoch 72/150\n",
            " - 0s - loss: 0.6567 - accuracy: 0.6900\n",
            "Epoch 73/150\n",
            " - 0s - loss: 0.6488 - accuracy: 0.6900\n",
            "Epoch 74/150\n",
            " - 0s - loss: 0.6401 - accuracy: 0.6900\n",
            "Epoch 75/150\n",
            " - 0s - loss: 0.6316 - accuracy: 0.7000\n",
            "Epoch 76/150\n",
            " - 0s - loss: 0.6223 - accuracy: 0.7100\n",
            "Epoch 77/150\n",
            " - 0s - loss: 0.6143 - accuracy: 0.7100\n",
            "Epoch 78/150\n",
            " - 0s - loss: 0.6058 - accuracy: 0.7400\n",
            "Epoch 79/150\n",
            " - 0s - loss: 0.5982 - accuracy: 0.7400\n",
            "Epoch 80/150\n",
            " - 0s - loss: 0.5907 - accuracy: 0.7300\n",
            "Epoch 81/150\n",
            " - 0s - loss: 0.5830 - accuracy: 0.7100\n",
            "Epoch 82/150\n",
            " - 0s - loss: 0.5764 - accuracy: 0.7100\n",
            "Epoch 83/150\n",
            " - 0s - loss: 0.5694 - accuracy: 0.7100\n",
            "Epoch 84/150\n",
            " - 0s - loss: 0.5618 - accuracy: 0.7100\n",
            "Epoch 85/150\n",
            " - 0s - loss: 0.5552 - accuracy: 0.7400\n",
            "Epoch 86/150\n",
            " - 0s - loss: 0.5490 - accuracy: 0.7300\n",
            "Epoch 87/150\n",
            " - 0s - loss: 0.5424 - accuracy: 0.7300\n",
            "Epoch 88/150\n",
            " - 0s - loss: 0.5370 - accuracy: 0.7200\n",
            "Epoch 89/150\n",
            " - 0s - loss: 0.5314 - accuracy: 0.7200\n",
            "Epoch 90/150\n",
            " - 0s - loss: 0.5256 - accuracy: 0.7200\n",
            "Epoch 91/150\n",
            " - 0s - loss: 0.5205 - accuracy: 0.7500\n",
            "Epoch 92/150\n",
            " - 0s - loss: 0.5145 - accuracy: 0.7700\n",
            "Epoch 93/150\n",
            " - 0s - loss: 0.5094 - accuracy: 0.7900\n",
            "Epoch 94/150\n",
            " - 0s - loss: 0.5039 - accuracy: 0.8300\n",
            "Epoch 95/150\n",
            " - 0s - loss: 0.4987 - accuracy: 0.8300\n",
            "Epoch 96/150\n",
            " - 0s - loss: 0.4940 - accuracy: 0.8300\n",
            "Epoch 97/150\n",
            " - 0s - loss: 0.4892 - accuracy: 0.8200\n",
            "Epoch 98/150\n",
            " - 0s - loss: 0.4848 - accuracy: 0.8300\n",
            "Epoch 99/150\n",
            " - 0s - loss: 0.4806 - accuracy: 0.8300\n",
            "Epoch 100/150\n",
            " - 0s - loss: 0.4766 - accuracy: 0.8300\n",
            "Epoch 101/150\n",
            " - 0s - loss: 0.4725 - accuracy: 0.8200\n",
            "Epoch 102/150\n",
            " - 0s - loss: 0.4691 - accuracy: 0.8100\n",
            "Epoch 103/150\n",
            " - 0s - loss: 0.4654 - accuracy: 0.8100\n",
            "Epoch 104/150\n",
            " - 0s - loss: 0.4612 - accuracy: 0.8300\n",
            "Epoch 105/150\n",
            " - 0s - loss: 0.4563 - accuracy: 0.8400\n",
            "Epoch 106/150\n",
            " - 0s - loss: 0.4530 - accuracy: 0.8600\n",
            "Epoch 107/150\n",
            " - 0s - loss: 0.4502 - accuracy: 0.8800\n",
            "Epoch 108/150\n",
            " - 0s - loss: 0.4467 - accuracy: 0.9100\n",
            "Epoch 109/150\n",
            " - 0s - loss: 0.4434 - accuracy: 0.9100\n",
            "Epoch 110/150\n",
            " - 0s - loss: 0.4397 - accuracy: 0.9100\n",
            "Epoch 111/150\n",
            " - 0s - loss: 0.4359 - accuracy: 0.9000\n",
            "Epoch 112/150\n",
            " - 0s - loss: 0.4336 - accuracy: 0.8700\n",
            "Epoch 113/150\n",
            " - 0s - loss: 0.4309 - accuracy: 0.8400\n",
            "Epoch 114/150\n",
            " - 0s - loss: 0.4278 - accuracy: 0.8400\n",
            "Epoch 115/150\n",
            " - 0s - loss: 0.4252 - accuracy: 0.8700\n",
            "Epoch 116/150\n",
            " - 0s - loss: 0.4211 - accuracy: 0.8800\n",
            "Epoch 117/150\n",
            " - 0s - loss: 0.4186 - accuracy: 0.9000\n",
            "Epoch 118/150\n",
            " - 0s - loss: 0.4154 - accuracy: 0.9100\n",
            "Epoch 119/150\n",
            " - 0s - loss: 0.4128 - accuracy: 0.9100\n",
            "Epoch 120/150\n",
            " - 0s - loss: 0.4099 - accuracy: 0.9000\n",
            "Epoch 121/150\n",
            " - 0s - loss: 0.4073 - accuracy: 0.8800\n",
            "Epoch 122/150\n",
            " - 0s - loss: 0.4045 - accuracy: 0.9000\n",
            "Epoch 123/150\n",
            " - 0s - loss: 0.4014 - accuracy: 0.9100\n",
            "Epoch 124/150\n",
            " - 0s - loss: 0.3990 - accuracy: 0.9000\n",
            "Epoch 125/150\n",
            " - 0s - loss: 0.3970 - accuracy: 0.9000\n",
            "Epoch 126/150\n",
            " - 0s - loss: 0.3942 - accuracy: 0.9100\n",
            "Epoch 127/150\n",
            " - 0s - loss: 0.3915 - accuracy: 0.9100\n",
            "Epoch 128/150\n",
            " - 0s - loss: 0.3894 - accuracy: 0.9100\n",
            "Epoch 129/150\n",
            " - 0s - loss: 0.3871 - accuracy: 0.9200\n",
            "Epoch 130/150\n",
            " - 0s - loss: 0.3850 - accuracy: 0.9200\n",
            "Epoch 131/150\n",
            " - 0s - loss: 0.3820 - accuracy: 0.9100\n",
            "Epoch 132/150\n",
            " - 0s - loss: 0.3795 - accuracy: 0.9100\n",
            "Epoch 133/150\n",
            " - 0s - loss: 0.3774 - accuracy: 0.9100\n",
            "Epoch 134/150\n",
            " - 0s - loss: 0.3751 - accuracy: 0.9100\n",
            "Epoch 135/150\n",
            " - 0s - loss: 0.3729 - accuracy: 0.9100\n",
            "Epoch 136/150\n",
            " - 0s - loss: 0.3706 - accuracy: 0.9100\n",
            "Epoch 137/150\n",
            " - 0s - loss: 0.3682 - accuracy: 0.9100\n",
            "Epoch 138/150\n",
            " - 0s - loss: 0.3661 - accuracy: 0.9100\n",
            "Epoch 139/150\n",
            " - 0s - loss: 0.3641 - accuracy: 0.9100\n",
            "Epoch 140/150\n",
            " - 0s - loss: 0.3624 - accuracy: 0.9100\n",
            "Epoch 141/150\n",
            " - 0s - loss: 0.3605 - accuracy: 0.9100\n",
            "Epoch 142/150\n",
            " - 0s - loss: 0.3584 - accuracy: 0.9100\n",
            "Epoch 143/150\n",
            " - 0s - loss: 0.3558 - accuracy: 0.9100\n",
            "Epoch 144/150\n",
            " - 0s - loss: 0.3537 - accuracy: 0.9100\n",
            "Epoch 145/150\n",
            " - 0s - loss: 0.3516 - accuracy: 0.9100\n",
            "Epoch 146/150\n",
            " - 0s - loss: 0.3498 - accuracy: 0.9200\n",
            "Epoch 147/150\n",
            " - 0s - loss: 0.3475 - accuracy: 0.9200\n",
            "Epoch 148/150\n",
            " - 0s - loss: 0.3455 - accuracy: 0.9200\n",
            "Epoch 149/150\n",
            " - 0s - loss: 0.3434 - accuracy: 0.9200\n",
            "Epoch 150/150\n",
            " - 0s - loss: 0.3426 - accuracy: 0.9100\n"
          ],
          "name": "stdout"
        },
        {
          "output_type": "execute_result",
          "data": {
            "text/plain": [
              "<keras.callbacks.callbacks.History at 0x7f4a8a567e80>"
            ]
          },
          "metadata": {
            "tags": []
          },
          "execution_count": 18
        }
      ]
    },
    {
      "cell_type": "markdown",
      "metadata": {
        "id": "elA5Hbvvo0Y5",
        "colab_type": "text"
      },
      "source": [
        "## 7) Testing the model on Test Set"
      ]
    },
    {
      "cell_type": "code",
      "metadata": {
        "id": "k5e0oINzoUc9",
        "colab_type": "code",
        "colab": {
          "base_uri": "https://localhost:8080/",
          "height": 867
        },
        "outputId": "c436ec8e-c2a3-40ec-bc11-aebb4bb00012"
      },
      "source": [
        "model.predict(Scaled_X_test)"
      ],
      "execution_count": 19,
      "outputs": [
        {
          "output_type": "execute_result",
          "data": {
            "text/plain": [
              "array([[6.86001591e-03, 5.76077521e-01, 4.17062461e-01],\n",
              "       [9.59403396e-01, 2.49679517e-02, 1.56285930e-02],\n",
              "       [4.16121111e-06, 1.06692336e-01, 8.93303514e-01],\n",
              "       [6.55385293e-03, 5.22652090e-01, 4.70794022e-01],\n",
              "       [7.27152103e-04, 3.88813704e-01, 6.10459208e-01],\n",
              "       [9.19114172e-01, 5.02966531e-02, 3.05890962e-02],\n",
              "       [3.48074771e-02, 6.49512351e-01, 3.15680206e-01],\n",
              "       [1.32908739e-04, 1.89685360e-01, 8.10181737e-01],\n",
              "       [5.26652089e-04, 3.21001917e-01, 6.78471386e-01],\n",
              "       [1.38211530e-02, 6.10616565e-01, 3.75562221e-01],\n",
              "       [1.16287160e-03, 3.41102123e-01, 6.57735050e-01],\n",
              "       [9.55079436e-01, 2.58950796e-02, 1.90255288e-02],\n",
              "       [9.53419685e-01, 2.83353254e-02, 1.82449352e-02],\n",
              "       [9.58239317e-01, 2.40896381e-02, 1.76710412e-02],\n",
              "       [9.80863094e-01, 1.08147636e-02, 8.32209457e-03],\n",
              "       [7.65910977e-03, 5.35921395e-01, 4.56419528e-01],\n",
              "       [2.85136281e-04, 2.33955085e-01, 7.65759826e-01],\n",
              "       [1.54909333e-02, 6.25323534e-01, 3.59185547e-01],\n",
              "       [1.55632850e-02, 6.09077156e-01, 3.75359476e-01],\n",
              "       [2.07540201e-04, 2.12408617e-01, 7.87383854e-01],\n",
              "       [9.69075799e-01, 1.75568182e-02, 1.33674042e-02],\n",
              "       [3.03546293e-03, 4.24998432e-01, 5.71966112e-01],\n",
              "       [9.64179099e-01, 2.09574457e-02, 1.48634790e-02],\n",
              "       [2.70033604e-04, 2.36009538e-01, 7.63720393e-01],\n",
              "       [1.24252721e-04, 2.47814983e-01, 7.52060771e-01],\n",
              "       [1.58280163e-04, 1.94355324e-01, 8.05486381e-01],\n",
              "       [9.96314775e-05, 2.14944363e-01, 7.84955978e-01],\n",
              "       [1.81879252e-04, 2.08822533e-01, 7.90995598e-01],\n",
              "       [9.45553482e-01, 3.21142785e-02, 2.23323368e-02],\n",
              "       [9.59373891e-01, 2.33613309e-02, 1.72647759e-02],\n",
              "       [9.82590616e-01, 9.86559037e-03, 7.54372263e-03],\n",
              "       [9.84818578e-01, 8.84723291e-03, 6.33412134e-03],\n",
              "       [2.70399754e-03, 4.88890052e-01, 5.08405924e-01],\n",
              "       [9.75077152e-01, 1.40938461e-02, 1.08290296e-02],\n",
              "       [9.73721325e-01, 1.49194524e-02, 1.13592390e-02],\n",
              "       [2.76127132e-04, 2.48929814e-01, 7.50794053e-01],\n",
              "       [5.93841868e-03, 5.30516803e-01, 4.63544786e-01],\n",
              "       [9.69141185e-01, 1.79158822e-02, 1.29428543e-02],\n",
              "       [9.78639603e-01, 1.20491516e-02, 9.31126345e-03],\n",
              "       [9.88476276e-01, 6.50142459e-03, 5.02222078e-03],\n",
              "       [1.89489045e-03, 3.65655750e-01, 6.32449389e-01],\n",
              "       [2.25257147e-02, 6.06425524e-01, 3.71048748e-01],\n",
              "       [1.93953293e-03, 4.50349212e-01, 5.47711313e-01],\n",
              "       [9.75803852e-01, 1.42115904e-02, 9.98453796e-03],\n",
              "       [9.72309589e-01, 1.62059702e-02, 1.14843855e-02],\n",
              "       [1.93497818e-02, 6.48783386e-01, 3.31866801e-01],\n",
              "       [1.86025607e-03, 4.36078310e-01, 5.62061429e-01],\n",
              "       [1.55706762e-03, 3.89650375e-01, 6.08792543e-01],\n",
              "       [2.56951666e-03, 4.80548292e-01, 5.16882181e-01],\n",
              "       [1.26520725e-04, 1.85044393e-01, 8.14829111e-01]], dtype=float32)"
            ]
          },
          "metadata": {
            "tags": []
          },
          "execution_count": 19
        }
      ]
    },
    {
      "cell_type": "code",
      "metadata": {
        "id": "rveZS47co7qb",
        "colab_type": "code",
        "colab": {
          "base_uri": "https://localhost:8080/",
          "height": 68
        },
        "outputId": "ac2dee65-44dd-4d2e-c4b0-7e0e74670565"
      },
      "source": [
        "model.predict_classes(Scaled_X_test)   # It will return the index of the maximum value"
      ],
      "execution_count": 22,
      "outputs": [
        {
          "output_type": "execute_result",
          "data": {
            "text/plain": [
              "array([1, 0, 2, 1, 2, 0, 1, 2, 2, 1, 2, 0, 0, 0, 0, 1, 2, 1, 1, 2, 0, 2,\n",
              "       0, 2, 2, 2, 2, 2, 0, 0, 0, 0, 2, 0, 0, 2, 1, 0, 0, 0, 2, 1, 2, 0,\n",
              "       0, 1, 2, 2, 2, 2])"
            ]
          },
          "metadata": {
            "tags": []
          },
          "execution_count": 22
        }
      ]
    },
    {
      "cell_type": "code",
      "metadata": {
        "id": "ifD9kze-pGEf",
        "colab_type": "code",
        "colab": {}
      },
      "source": [
        "predictions = model.predict_classes(Scaled_X_test)"
      ],
      "execution_count": 0,
      "outputs": []
    },
    {
      "cell_type": "code",
      "metadata": {
        "id": "3WBVIx1epSxt",
        "colab_type": "code",
        "colab": {
          "base_uri": "https://localhost:8080/",
          "height": 68
        },
        "outputId": "04b2e99e-d287-4362-f2d5-2d1561aae12e"
      },
      "source": [
        "y_test.argmax(axis = 1)"
      ],
      "execution_count": 24,
      "outputs": [
        {
          "output_type": "execute_result",
          "data": {
            "text/plain": [
              "array([1, 0, 2, 1, 1, 0, 1, 2, 1, 1, 2, 0, 0, 0, 0, 1, 2, 1, 1, 2, 0, 2,\n",
              "       0, 2, 2, 2, 2, 2, 0, 0, 0, 0, 1, 0, 0, 2, 1, 0, 0, 0, 2, 1, 1, 0,\n",
              "       0, 1, 2, 2, 1, 2])"
            ]
          },
          "metadata": {
            "tags": []
          },
          "execution_count": 24
        }
      ]
    },
    {
      "cell_type": "code",
      "metadata": {
        "id": "FqzYtvbMphGq",
        "colab_type": "code",
        "colab": {}
      },
      "source": [
        ""
      ],
      "execution_count": 0,
      "outputs": []
    }
  ]
}